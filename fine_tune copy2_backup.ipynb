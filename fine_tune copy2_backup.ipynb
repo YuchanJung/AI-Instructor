{
 "cells": [
  {
   "cell_type": "code",
   "execution_count": 1,
   "metadata": {},
   "outputs": [],
   "source": [
    "import torch\n",
    "import os\n",
    "from transformers import AutoTokenizer, AutoModelForCausalLM, BitsAndBytesConfig\n",
    "from datasets import Dataset\n",
    "from transformers import DataCollatorForLanguageModeling, TrainingArguments\n",
    "from trl import SFTTrainer\n",
    "import pandas as pd"
   ]
  },
  {
   "cell_type": "code",
   "execution_count": 2,
   "metadata": {},
   "outputs": [],
   "source": [
    "model_id = \"google/gemma-2-2b\"\n",
    "data_dir = \"./dataset/csv\"\n",
    "output_dir = './results2'\n",
    "token = 'aaa'"
   ]
  },
  {
   "cell_type": "code",
   "execution_count": 3,
   "metadata": {},
   "outputs": [],
   "source": [
    "# 모델 및 토크나이저 로드\n",
    "# bnb_config = BitsAndBytesConfig(\n",
    "#     load_in_4bit=True,\n",
    "#     bnb_4bit_quant_type=\"nf4\",\n",
    "#     bnb_4bit_compute_dtype=torch.bfloat16\n",
    "# )"
   ]
  },
  {
   "cell_type": "code",
   "execution_count": 4,
   "metadata": {},
   "outputs": [
    {
     "data": {
      "application/vnd.jupyter.widget-view+json": {
       "model_id": "2ff01722dfd747039b256f8b57f6d33d",
       "version_major": 2,
       "version_minor": 0
      },
      "text/plain": [
       "tokenizer_config.json:   0%|          | 0.00/46.4k [00:00<?, ?B/s]"
      ]
     },
     "metadata": {},
     "output_type": "display_data"
    },
    {
     "data": {
      "application/vnd.jupyter.widget-view+json": {
       "model_id": "b8fa54ebcb64447a97672d54eb9ec7af",
       "version_major": 2,
       "version_minor": 0
      },
      "text/plain": [
       "tokenizer.model:   0%|          | 0.00/4.24M [00:00<?, ?B/s]"
      ]
     },
     "metadata": {},
     "output_type": "display_data"
    },
    {
     "data": {
      "application/vnd.jupyter.widget-view+json": {
       "model_id": "5cb2f4f762e848ac963b3f74eee582c8",
       "version_major": 2,
       "version_minor": 0
      },
      "text/plain": [
       "tokenizer.json:   0%|          | 0.00/17.5M [00:00<?, ?B/s]"
      ]
     },
     "metadata": {},
     "output_type": "display_data"
    },
    {
     "data": {
      "application/vnd.jupyter.widget-view+json": {
       "model_id": "fcbb663cc4734bb58279153c8ed12bff",
       "version_major": 2,
       "version_minor": 0
      },
      "text/plain": [
       "special_tokens_map.json:   0%|          | 0.00/636 [00:00<?, ?B/s]"
      ]
     },
     "metadata": {},
     "output_type": "display_data"
    },
    {
     "data": {
      "application/vnd.jupyter.widget-view+json": {
       "model_id": "57ed721ff178414aa2154d56ca9f25a3",
       "version_major": 2,
       "version_minor": 0
      },
      "text/plain": [
       "config.json:   0%|          | 0.00/818 [00:00<?, ?B/s]"
      ]
     },
     "metadata": {},
     "output_type": "display_data"
    },
    {
     "data": {
      "application/vnd.jupyter.widget-view+json": {
       "model_id": "e2a626e2ef954e12b226bf3d54db7079",
       "version_major": 2,
       "version_minor": 0
      },
      "text/plain": [
       "model.safetensors.index.json:   0%|          | 0.00/24.2k [00:00<?, ?B/s]"
      ]
     },
     "metadata": {},
     "output_type": "display_data"
    },
    {
     "data": {
      "application/vnd.jupyter.widget-view+json": {
       "model_id": "51021d6030494e71b212c02e38392146",
       "version_major": 2,
       "version_minor": 0
      },
      "text/plain": [
       "Downloading shards:   0%|          | 0/3 [00:00<?, ?it/s]"
      ]
     },
     "metadata": {},
     "output_type": "display_data"
    },
    {
     "data": {
      "application/vnd.jupyter.widget-view+json": {
       "model_id": "49b9715d2f8c4907a8462b5389cfd17a",
       "version_major": 2,
       "version_minor": 0
      },
      "text/plain": [
       "model-00001-of-00003.safetensors:   0%|          | 0.00/4.99G [00:00<?, ?B/s]"
      ]
     },
     "metadata": {},
     "output_type": "display_data"
    },
    {
     "data": {
      "application/vnd.jupyter.widget-view+json": {
       "model_id": "ac610911d6d14b4cbe6a478a8772841d",
       "version_major": 2,
       "version_minor": 0
      },
      "text/plain": [
       "model-00002-of-00003.safetensors:   0%|          | 0.00/4.98G [00:00<?, ?B/s]"
      ]
     },
     "metadata": {},
     "output_type": "display_data"
    },
    {
     "data": {
      "application/vnd.jupyter.widget-view+json": {
       "model_id": "22b7683ab5f7413aa4f60c48b5cfd1d8",
       "version_major": 2,
       "version_minor": 0
      },
      "text/plain": [
       "model-00003-of-00003.safetensors:   0%|          | 0.00/481M [00:00<?, ?B/s]"
      ]
     },
     "metadata": {},
     "output_type": "display_data"
    },
    {
     "data": {
      "application/vnd.jupyter.widget-view+json": {
       "model_id": "782648fbb5584ecdb120b0825d0e6c54",
       "version_major": 2,
       "version_minor": 0
      },
      "text/plain": [
       "Loading checkpoint shards:   0%|          | 0/3 [00:00<?, ?it/s]"
      ]
     },
     "metadata": {},
     "output_type": "display_data"
    },
    {
     "data": {
      "application/vnd.jupyter.widget-view+json": {
       "model_id": "8eec4f38f80a4de18735e9b5db27a091",
       "version_major": 2,
       "version_minor": 0
      },
      "text/plain": [
       "generation_config.json:   0%|          | 0.00/168 [00:00<?, ?B/s]"
      ]
     },
     "metadata": {},
     "output_type": "display_data"
    }
   ],
   "source": [
    "tokenizer = AutoTokenizer.from_pretrained(model_id, token=token)\n",
    "model = AutoModelForCausalLM.from_pretrained(\n",
    "    model_id,\n",
    "    device_map={\"\":0},\n",
    "    token=token\n",
    ")"
   ]
  },
  {
   "cell_type": "code",
   "execution_count": 5,
   "metadata": {},
   "outputs": [
    {
     "name": "stdout",
     "output_type": "stream",
     "text": [
      "Sample data of ./dataset/csv/g_lecture10_qna.csv\n",
      "                                            Question  \\\n",
      "0            Why is unsupervised learning important?   \n",
      "1  How does self-supervised learning relate to un...   \n",
      "2    What challenge does unsupervised learning face?   \n",
      "3            Why is representation learning crucial?   \n",
      "4  How does clustering benefit unsupervised learn...   \n",
      "\n",
      "                                              Answer  \n",
      "0  It helps models learn from unlabelled data and...  \n",
      "1  It uses the structure of data to train without...  \n",
      "2  It lacks clear evaluation criteria without lab...  \n",
      "3  Good representations improve interpretability ...  \n",
      "4  It groups similar data points, aiding in later...  \n",
      "Sample data of ./dataset/csv/g_lecture11_qna.csv\n",
      "                                            Question  \\\n",
      "0          What are latent variable models used for?   \n",
      "1            Why is variational inference important?   \n",
      "2  How are generative models different from other...   \n",
      "3    What is the role of latent variables in models?   \n",
      "4               Why are invertible models appealing?   \n",
      "\n",
      "                                              Answer  \n",
      "0  They model hidden or unobserved factors explai...  \n",
      "1  It approximates intractable posteriors for eff...  \n",
      "2  They model high-dimensional output distributions.  \n",
      "3  They help explain observed data by introducing...  \n",
      "4  They allow for exact inference and efficient s...  \n",
      "Sample data of ./dataset/csv/g_lecture12_qna.csv\n",
      "                                            Question  \\\n",
      "0     Why is responsible innovation important in AI?   \n",
      "1        What risks arise from AI models like GPT-2?   \n",
      "2      How can AI systems impact society negatively?   \n",
      "3     What is one challenge in ensuring AI fairness?   \n",
      "4  Why should AI researchers consider ethical imp...   \n",
      "\n",
      "                                              Answer  \n",
      "0  It ensures AI is safe, reliable, and beneficia...  \n",
      "1     They may reinforce biases present in the data.  \n",
      "2   By amplifying biases or causing unintended harm.  \n",
      "3  AI systems can inherit societal biases from data.  \n",
      "4     To prevent harm and ensure fairness in AI use.  \n",
      "Sample data of ./dataset/csv/g_lecture1_qna.csv\n",
      "                                       Question  \\\n",
      "0                   What is DeepMind's mission?   \n",
      "1       What is the first case study mentioned?   \n",
      "2                              What is AlphaGo?   \n",
      "3                       What does AlphaZero do?   \n",
      "4  What is a key feature of human intelligence?   \n",
      "\n",
      "                                              Answer  \n",
      "0  To solve intelligence and use it to solve ever...  \n",
      "1                             AlphaGo and AlphaZero.  \n",
      "2  A system that plays Go using deep learning and...  \n",
      "3  It plays games like chess, shogi, and Go via s...  \n",
      "4                                    Its generality.  \n",
      "Sample data of ./dataset/csv/g_lecture2_qna.csv\n",
      "                                            Question  \\\n",
      "0            What is the main topic of this lecture?   \n",
      "1              How many sections are in the lecture?   \n",
      "2     What is a key motivation to learn neural nets?   \n",
      "3     What hardware helped accelerate deep learning?   \n",
      "4  What is the first historical neural network me...   \n",
      "\n",
      "                            Answer  \n",
      "0  Foundations of neural networks.  \n",
      "1          There are six sections.  \n",
      "2  To understand their usefulness.  \n",
      "3                   GPUs and TPUs.  \n",
      "4   Restricted Boltzmann machines.  \n",
      "Sample data of ./dataset/csv/g_lecture3_qna.csv\n",
      "                                            Question  \\\n",
      "0            What is the main topic of this lecture?   \n",
      "1                                 What are ConvNets?   \n",
      "2                What is a key property of ConvNets?   \n",
      "3         What are the two key properties of images?   \n",
      "4  What problem does translation cause for neural...   \n",
      "\n",
      "                                              Answer  \n",
      "0                    ConvNets for image recognition.  \n",
      "1  Neural networks using convolution operations f...  \n",
      "2          They can detect local patterns in images.  \n",
      "3               Locality and translation invariance.  \n",
      "4         Shifted objects lead to different outputs.  \n",
      "Sample data of ./dataset/csv/g_lecture4_qna.csv\n",
      "                                            Question  \\\n",
      "0            What is the main topic of this lecture?   \n",
      "1        Why do we need to go beyond classification?   \n",
      "2  What percentage of information do we get visua...   \n",
      "3                          What is object detection?   \n",
      "4         What is the Holy Grail of computer vision?   \n",
      "\n",
      "                                              Answer  \n",
      "0               Advanced models for computer vision.  \n",
      "1      Classification captures sparse image details.  \n",
      "2            80% of information comes from the eyes.  \n",
      "3  Identifying object class and location in an im...  \n",
      "4         Achieving human-level scene understanding.  \n",
      "Sample data of ./dataset/csv/g_lecture5_qna.csv\n",
      "                                         Question  \\\n",
      "0         What is the main focus of this lecture?   \n",
      "1                       What is gradient descent?   \n",
      "2     What are the five sections of this lecture?   \n",
      "3  What does optimization do in machine learning?   \n",
      "4                  What is an objective function?   \n",
      "\n",
      "                                              Answer  \n",
      "0         Optimization methods for machine learning.  \n",
      "1  A method to minimize functions by following th...  \n",
      "2  Intro, gradient descent, momentum, second-orde...  \n",
      "3     It helps models learn by adjusting parameters.  \n",
      "4     It measures the error of a model's prediction.  \n",
      "Sample data of ./dataset/csv/g_lecture6_qna.csv\n",
      "                                  Question  \\\n",
      "0  What is the main topic of this lecture?   \n",
      "1                What is gradient descent?   \n",
      "2   What does L represent in optimization?   \n",
      "3        What is momentum in optimization?   \n",
      "4              What is the Hessian matrix?   \n",
      "\n",
      "                                              Answer  \n",
      "0                 Optimization for machine learning.  \n",
      "1  A method to minimize functions by following th...  \n",
      "2       It represents the Lipschitz smooth constant.  \n",
      "3  A method to accelerate learning in low-curvatu...  \n",
      "4      A matrix of second-order partial derivatives.  \n",
      "Sample data of ./dataset/csv/g_lecture7_qna.csv\n",
      "                                            Question  \\\n",
      "0     Why are deep learning models effective in NLP?   \n",
      "1             How does BERT improve language models?   \n",
      "2              What tasks can transformers excel in?   \n",
      "3       Why is context important in language models?   \n",
      "4  What is the significance of 'time flies like a...   \n",
      "\n",
      "                                              Answer  \n",
      "0  They capture complex patterns in language usin...  \n",
      "1  By pretraining on vast amounts of text with un...  \n",
      "2  Tasks like translation, sentence classificatio...  \n",
      "3  It helps disambiguate word meanings and refine...  \n",
      "4  It shows how context impacts sentence interpre...  \n",
      "Sample data of ./dataset/csv/g_lecture8_qna.csv\n",
      "                                            Question  \\\n",
      "0  Why is attention critical in deep learning mod...   \n",
      "1  How do neural networks develop implicit attent...   \n",
      "2                What is the cocktail party problem?   \n",
      "3  Why is attention more about ignoring than focu...   \n",
      "4  How is memory related to attention in deep lea...   \n",
      "\n",
      "                                         Answer  \n",
      "0             It allows focus on relevant data.  \n",
      "1  By becoming sensitive to parts of the input.  \n",
      "2   It's focusing on one voice in a noisy room.  \n",
      "3     It's about filtering out irrelevant data.  \n",
      "4             Memory is attention through time.  \n",
      "Sample data of ./dataset/csv/g_lecture9_qna.csv\n",
      "                                       Question  \\\n",
      "0             What is the primary goal of GANs?   \n",
      "1                          How do GANs operate?   \n",
      "2      Why are GANs considered implicit models?   \n",
      "3    What role does the generator play in GANs?   \n",
      "4  How does the discriminator function in GANs?   \n",
      "\n",
      "                                              Answer  \n",
      "0  To generate realistic samples by learning the ...  \n",
      "1  They involve a game between a generator and a ...  \n",
      "2  They generate samples without modeling probabi...  \n",
      "3  It generates fake data to fool the discriminator.  \n",
      "4  It distinguishes between real and generated data.  \n",
      "Sample data of ./dataset/csv/lecture10_QnA.csv\n",
      "                                            Question  \\\n",
      "0               What does the acronym RNN stand for?   \n",
      "1  Why might convolutional networks work better t...   \n",
      "2  What is the purpose of slots in conversational...   \n",
      "3  What are the two intents defined for the chatb...   \n",
      "4   How can one train a model to detect user intent?   \n",
      "\n",
      "                                              Answer  \n",
      "0                          Recurrent Neural Network.  \n",
      "1  Because they can detect intent by scanning sma...  \n",
      "2  Slots gather multiple information from the use...  \n",
      "3  The intents are finding information about a co...  \n",
      "4  By labeling the dataset with pairs of user utt...  \n",
      "Sample data of ./dataset/csv/lecture1_QnA.csv\n",
      "                                            Question  \\\n",
      "0  What is the main reason deep learning has take...   \n",
      "1  Why is deep learning considered the 'hardest' ...   \n",
      "2  What is the flipped classroom format used in C...   \n",
      "3               Who are the co-instructors of CS230?   \n",
      "4  What is the role of teaching assistants (TAs) ...   \n",
      "\n",
      "                                              Answer  \n",
      "0  The main reason is the scale of data and compu...  \n",
      "1  Deep learning is considered the hardest becaus...  \n",
      "2  In the flipped classroom format, students watc...  \n",
      "3  The co-instructors are Andrew Ng and Kian Kata...  \n",
      "4  TAs provide advice, help, and mentorship for s...  \n",
      "Sample data of ./dataset/csv/lecture2_QnA.csv\n",
      "                                            Question  \\\n",
      "0  What is the goal of deep learning intuition as...   \n",
      "1  How is machine learning, specifically deep lea...   \n",
      "2             What defines a model in deep learning?   \n",
      "3  What is a loss function in the context of deep...   \n",
      "4  What is logistic regression in the context of ...   \n",
      "\n",
      "                                              Answer  \n",
      "0  The goal is to give a systematic way to think ...  \n",
      "1  Machine learning is modeled as a function that...  \n",
      "2  A model is defined as architecture plus parame...  \n",
      "3  A loss function compares the output of the mod...  \n",
      "4  Logistic regression is one of the simplest for...  \n",
      "Sample data of ./dataset/csv/lecture3_QnA.csv\n",
      "                                            Question  \\\n",
      "0  What is the primary objective of this lecture ...   \n",
      "1  What are some key aspects involved in building...   \n",
      "2  In the context of this lecture, what example p...   \n",
      "3  What is the first step in building a machine l...   \n",
      "4  Why is getting labeled data important in super...   \n",
      "\n",
      "                                              Answer  \n",
      "0  The lecture aims to discuss the steps involved...  \n",
      "1  Besides training the model, key aspects includ...  \n",
      "2  The example project is building a voice-activa...  \n",
      "3    The first step is selecting a problem to solve.  \n",
      "4  Labeled data is needed to train the learning a...  \n",
      "Sample data of ./dataset/csv/lecture4_QnA.csv\n",
      "                                            Question  \\\n",
      "0  What are the two main topics discussed in Lect...   \n",
      "1  Why are neural networks vulnerable to adversar...   \n",
      "2  What was the goal of Christian Szegedy's 2013 ...   \n",
      "3  What is an adversarial example in the context ...   \n",
      "4  How can the effectiveness of adversarial examp...   \n",
      "\n",
      "                                              Answer  \n",
      "0  Adversarial examples and generative adversaria...  \n",
      "1  Neural networks can have blind spots where sli...  \n",
      "2  To show that neural networks can be tricked in...  \n",
      "3  An input image slightly modified to be misclas...  \n",
      "4  By adding constraints to the optimization prob...  \n",
      "Sample data of ./dataset/csv/lecture5_QnA.csv\n",
      "                                            Question  \\\n",
      "0  What are the levels of questions that AI can a...   \n",
      "1  What is the function of a 1D convolutional neu...   \n",
      "2  What is the significance of using a ResNet arc...   \n",
      "3  Why is automation in healthcare with deep lear...   \n",
      "4  How does a DenseNet architecture differ from a...   \n",
      "\n",
      "                                              Answer  \n",
      "0  Descriptive, diagnostic, predictive, and presc...  \n",
      "1  It runs over the time dimension of the input t...  \n",
      "2  ResNet allows for the training of very deep ne...  \n",
      "3  Automation allows for continuous monitoring an...  \n",
      "4  DenseNet connects every layer to every other l...  \n",
      "Sample data of ./dataset/csv/lecture6_QnA.csv\n",
      "                                            Question  \\\n",
      "0  What is the main teaching method used in this ...   \n",
      "1  Why does the lecturer encourage students to si...   \n",
      "2  What machine learning application example is u...   \n",
      "3  Why is reading existing literature important a...   \n",
      "4  What is the recommended method for conducting ...   \n",
      "\n",
      "                                              Answer  \n",
      "0  The main teaching method is a 'Choose Your Own...  \n",
      "1  Sitting with different people leads to richer ...  \n",
      "2  The example discussed is building a speech rec...  \n",
      "3  Reading existing literature helps quickly leve...  \n",
      "4  The lecturer recommends a parallel exploration...  \n",
      "Sample data of ./dataset/csv/lecture7_QnA.csv\n",
      "                                            Question  \\\n",
      "0  What are some types of layers discussed in con...   \n",
      "1  Which advanced application techniques involve ...   \n",
      "2  What is the main purpose of using saliency map...   \n",
      "3  How can the score for a specific class be back...   \n",
      "4  Why is it recommended to use the pre-softmax s...   \n",
      "\n",
      "                                              Answer  \n",
      "0  Pooling, max pooling, average pooling, and con...  \n",
      "1  Object detection with YOLO, Fast R-CNN, and Fa...  \n",
      "2  To understand the decision process of the netw...  \n",
      "3  By taking the derivative of the score of the c...  \n",
      "4  To avoid minimizing scores of other classes an...  \n",
      "Sample data of ./dataset/csv/lecture8_QnA.csv\n",
      "                                            Question  \\\n",
      "0  What are the two main topics covered in the le...   \n",
      "1  What should you skip if you read a research pa...   \n",
      "2  What is the benefit of reading 15 to 20 resear...   \n",
      "3  Why is reading the abstract, title, and figure...   \n",
      "4  What is a T-shaped individual in the context o...   \n",
      "\n",
      "                                              Answer  \n",
      "0  Reading research papers and career advice in m...  \n",
      "1  Skip the math initially and read the English t...  \n",
      "2  Gives a basic understanding enough to apply so...  \n",
      "3  They provide a high-level summary and key insi...  \n",
      "4  Someone with a broad understanding of many AI ...  \n",
      "Sample data of ./dataset/csv/lecture9_QnA.csv\n",
      "                                            Question  \\\n",
      "0  What are the two main fields of AI discussed i...   \n",
      "1  Why are deep neural networks described as good...   \n",
      "2  What is the setting where deep learning method...   \n",
      "3                           What is Deep Q-Learning?   \n",
      "4  Why do we need techniques like Xavier initiali...   \n",
      "\n",
      "                                              Answer  \n",
      "0          Deep Learning and Reinforcement Learning.  \n",
      "1  Because they can approximate a function given ...  \n",
      "2               Reinforcement Learning applications.  \n",
      "3  An algorithm that combines Q-Learning with dee...  \n",
      "4    To help deep neural networks train effectively.  \n",
      "Sample of refined data\n",
      "['Question: Why is unsupervised learning important?\\nAnswer: It helps models learn from unlabelled data and generalize better.', 'Question: How does self-supervised learning relate to unsupervised?\\nAnswer: It uses the structure of data to train without labels.', 'Question: What challenge does unsupervised learning face?\\nAnswer: It lacks clear evaluation criteria without labels.', 'Question: Why is representation learning crucial?\\nAnswer: Good representations improve interpretability and supervised tasks.', 'Question: How does clustering benefit unsupervised learning?\\nAnswer: It groups similar data points, aiding in later classification tasks.', 'Question: What problem does dimensionality reduction solve?\\nAnswer: It simplifies data by finding key axes of variation.', 'Question: Why are manifold representations useful?\\nAnswer: They make object categorization simpler by untangling data.', 'Question: What role did pre-training play in early unsupervised learning?\\nAnswer: It initialized networks for better convergence.', 'Question: Why did unsupervised pre-training decline?\\nAnswer: Supervised deep learning showed strong performance without it.', 'Question: How does generalization differ in unsupervised learning?\\nAnswer: It focuses on finding patterns without needing labels.', \"Question: What is a key drawback of deep learning's data efficiency?\\nAnswer: It requires significantly more data compared to humans.\", 'Question: Why is robustness a concern in deep learning models?\\nAnswer: Models can easily be fooled by adversarial examples.', 'Question: What is mode collapse in GANs?\\nAnswer: A generator produces limited data variety, ignoring full distribution.', 'Question: How do unsupervised models help in real-world tasks?\\nAnswer: They aid in tasks where labeled data is scarce.', 'Question: Why is transfer learning vital?\\nAnswer: It helps reuse learned representations in new situations.', 'Question: How does representation untangling improve performance?\\nAnswer: It simplifies decision boundaries for tasks like classification.', 'Question: What is the significance of symmetry in representations?\\nAnswer: It captures core features invariant to transformations.', 'Question: Why do representations need to exclude irrelevant information?\\nAnswer: To generalize better across different tasks.', 'Question: What is the relationship between attention and representation?\\nAnswer: Attention helps focus on important data, ignoring irrelevant details.', \"Question: How does disentangling relate to neuroscience?\\nAnswer: It's akin to untangling neural manifolds for better processing.\", 'Question: What role does symmetry play in physical tasks?\\nAnswer: Symmetry simplifies solving natural tasks like object recognition.', 'Question: What is the goal of representation in MDPs?\\nAnswer: To provide state information that simplifies task solving.', 'Question: Why is common sense lacking in current models?\\nAnswer: They struggle with causality and abstract concepts.', 'Question: How can disentangled representations help transfer learning?\\nAnswer: They focus on key factors, simplifying adaptation.', 'Question: Why are downstream tasks crucial in evaluating representations?\\nAnswer: They show how well the representation transfers to supervised tasks.', 'Question: How does compositionality benefit language tasks?\\nAnswer: It allows building complex meanings from simpler parts.', 'Question: What is a latent variable model?\\nAnswer: A model that assumes data is generated by hidden variables.', 'Question: Why is training unsupervised models challenging?\\nAnswer: There is no clear ground truth for validation.', 'Question: How does reinforcement learning benefit from representation?\\nAnswer: Good representations help agents generalize across environments.', 'Question: Why is semi-supervised learning used in unsupervised learning?\\nAnswer: To evaluate how well representations work with minimal labeled data.']\n"
     ]
    }
   ],
   "source": [
    "# 데이터셋 로드 및 전처리\n",
    "def load_qna_files(data_dir):\n",
    "    files = [os.path.join(data_dir, f) for f in os.listdir(data_dir) if f.endswith('.csv')]\n",
    "    data = []\n",
    "    for file in files:\n",
    "        dataset = pd.read_csv(file)\n",
    "        print(f'Sample data of {file}')\n",
    "        print(dataset.head(5))\n",
    "        for index, row in dataset.iterrows():\n",
    "            data.append(f\"Question: {row['Question']}\\nAnswer: {row['Answer']}\")\n",
    "    return data\n",
    "\n",
    "data = load_qna_files(data_dir)\n",
    "print(f'Sample of refined data')\n",
    "print(data[:30])"
   ]
  },
  {
   "cell_type": "code",
   "execution_count": 6,
   "metadata": {},
   "outputs": [],
   "source": [
    "def preprocess_data(texts, tokenizer, max_length=512):\n",
    "    encodings = tokenizer(texts, truncation=True, padding='max_length', max_length=max_length, return_tensors=\"pt\")\n",
    "    return encodings\n",
    "\n",
    "# 전처리된 데이터셋\n",
    "encodings = preprocess_data(data, tokenizer)"
   ]
  },
  {
   "cell_type": "code",
   "execution_count": 7,
   "metadata": {},
   "outputs": [
    {
     "name": "stdout",
     "output_type": "stream",
     "text": [
      "Dataset size: 951\n",
      "Sample dataset entry: {'input_ids': [0, 0, 0, 0, 0, 0, 0, 0, 0, 0, 0, 0, 0, 0, 0, 0, 0, 0, 0, 0, 0, 0, 0, 0, 0, 0, 0, 0, 0, 0, 0, 0, 0, 0, 0, 0, 0, 0, 0, 0, 0, 0, 0, 0, 0, 0, 0, 0, 0, 0, 0, 0, 0, 0, 0, 0, 0, 0, 0, 0, 0, 0, 0, 0, 0, 0, 0, 0, 0, 0, 0, 0, 0, 0, 0, 0, 0, 0, 0, 0, 0, 0, 0, 0, 0, 0, 0, 0, 0, 0, 0, 0, 0, 0, 0, 0, 0, 0, 0, 0, 0, 0, 0, 0, 0, 0, 0, 0, 0, 0, 0, 0, 0, 0, 0, 0, 0, 0, 0, 0, 0, 0, 0, 0, 0, 0, 0, 0, 0, 0, 0, 0, 0, 0, 0, 0, 0, 0, 0, 0, 0, 0, 0, 0, 0, 0, 0, 0, 0, 0, 0, 0, 0, 0, 0, 0, 0, 0, 0, 0, 0, 0, 0, 0, 0, 0, 0, 0, 0, 0, 0, 0, 0, 0, 0, 0, 0, 0, 0, 0, 0, 0, 0, 0, 0, 0, 0, 0, 0, 0, 0, 0, 0, 0, 0, 0, 0, 0, 0, 0, 0, 0, 0, 0, 0, 0, 0, 0, 0, 0, 0, 0, 0, 0, 0, 0, 0, 0, 0, 0, 0, 0, 0, 0, 0, 0, 0, 0, 0, 0, 0, 0, 0, 0, 0, 0, 0, 0, 0, 0, 0, 0, 0, 0, 0, 0, 0, 0, 0, 0, 0, 0, 0, 0, 0, 0, 0, 0, 0, 0, 0, 0, 0, 0, 0, 0, 0, 0, 0, 0, 0, 0, 0, 0, 0, 0, 0, 0, 0, 0, 0, 0, 0, 0, 0, 0, 0, 0, 0, 0, 0, 0, 0, 0, 0, 0, 0, 0, 0, 0, 0, 0, 0, 0, 0, 0, 0, 0, 0, 0, 0, 0, 0, 0, 0, 0, 0, 0, 0, 0, 0, 0, 0, 0, 0, 0, 0, 0, 0, 0, 0, 0, 0, 0, 0, 0, 0, 0, 0, 0, 0, 0, 0, 0, 0, 0, 0, 0, 0, 0, 0, 0, 0, 0, 0, 0, 0, 0, 0, 0, 0, 0, 0, 0, 0, 0, 0, 0, 0, 0, 0, 0, 0, 0, 0, 0, 0, 0, 0, 0, 0, 0, 0, 0, 0, 0, 0, 0, 0, 0, 0, 0, 0, 0, 0, 0, 0, 0, 0, 0, 0, 0, 0, 0, 0, 0, 0, 0, 0, 0, 0, 0, 0, 0, 0, 0, 0, 0, 0, 0, 0, 0, 0, 0, 0, 0, 0, 0, 0, 0, 0, 0, 0, 0, 0, 0, 0, 0, 0, 0, 0, 0, 0, 0, 0, 0, 0, 0, 0, 0, 0, 0, 0, 0, 0, 0, 0, 0, 0, 0, 0, 0, 0, 0, 0, 0, 0, 0, 0, 0, 0, 0, 0, 0, 0, 0, 0, 0, 0, 0, 0, 0, 0, 0, 0, 0, 0, 0, 2, 9413, 235292, 6822, 603, 195643, 6044, 2845, 235336, 108, 1261, 235292, 1165, 7154, 5377, 3918, 774, 748, 93857, 1423, 578, 143808, 2525, 235265], 'attention_mask': [0, 0, 0, 0, 0, 0, 0, 0, 0, 0, 0, 0, 0, 0, 0, 0, 0, 0, 0, 0, 0, 0, 0, 0, 0, 0, 0, 0, 0, 0, 0, 0, 0, 0, 0, 0, 0, 0, 0, 0, 0, 0, 0, 0, 0, 0, 0, 0, 0, 0, 0, 0, 0, 0, 0, 0, 0, 0, 0, 0, 0, 0, 0, 0, 0, 0, 0, 0, 0, 0, 0, 0, 0, 0, 0, 0, 0, 0, 0, 0, 0, 0, 0, 0, 0, 0, 0, 0, 0, 0, 0, 0, 0, 0, 0, 0, 0, 0, 0, 0, 0, 0, 0, 0, 0, 0, 0, 0, 0, 0, 0, 0, 0, 0, 0, 0, 0, 0, 0, 0, 0, 0, 0, 0, 0, 0, 0, 0, 0, 0, 0, 0, 0, 0, 0, 0, 0, 0, 0, 0, 0, 0, 0, 0, 0, 0, 0, 0, 0, 0, 0, 0, 0, 0, 0, 0, 0, 0, 0, 0, 0, 0, 0, 0, 0, 0, 0, 0, 0, 0, 0, 0, 0, 0, 0, 0, 0, 0, 0, 0, 0, 0, 0, 0, 0, 0, 0, 0, 0, 0, 0, 0, 0, 0, 0, 0, 0, 0, 0, 0, 0, 0, 0, 0, 0, 0, 0, 0, 0, 0, 0, 0, 0, 0, 0, 0, 0, 0, 0, 0, 0, 0, 0, 0, 0, 0, 0, 0, 0, 0, 0, 0, 0, 0, 0, 0, 0, 0, 0, 0, 0, 0, 0, 0, 0, 0, 0, 0, 0, 0, 0, 0, 0, 0, 0, 0, 0, 0, 0, 0, 0, 0, 0, 0, 0, 0, 0, 0, 0, 0, 0, 0, 0, 0, 0, 0, 0, 0, 0, 0, 0, 0, 0, 0, 0, 0, 0, 0, 0, 0, 0, 0, 0, 0, 0, 0, 0, 0, 0, 0, 0, 0, 0, 0, 0, 0, 0, 0, 0, 0, 0, 0, 0, 0, 0, 0, 0, 0, 0, 0, 0, 0, 0, 0, 0, 0, 0, 0, 0, 0, 0, 0, 0, 0, 0, 0, 0, 0, 0, 0, 0, 0, 0, 0, 0, 0, 0, 0, 0, 0, 0, 0, 0, 0, 0, 0, 0, 0, 0, 0, 0, 0, 0, 0, 0, 0, 0, 0, 0, 0, 0, 0, 0, 0, 0, 0, 0, 0, 0, 0, 0, 0, 0, 0, 0, 0, 0, 0, 0, 0, 0, 0, 0, 0, 0, 0, 0, 0, 0, 0, 0, 0, 0, 0, 0, 0, 0, 0, 0, 0, 0, 0, 0, 0, 0, 0, 0, 0, 0, 0, 0, 0, 0, 0, 0, 0, 0, 0, 0, 0, 0, 0, 0, 0, 0, 0, 0, 0, 0, 0, 0, 0, 0, 0, 0, 0, 0, 0, 0, 0, 0, 0, 0, 0, 0, 0, 0, 0, 0, 0, 0, 0, 0, 0, 0, 0, 0, 0, 0, 0, 0, 0, 0, 0, 0, 0, 0, 0, 0, 0, 0, 0, 0, 0, 0, 0, 0, 0, 1, 1, 1, 1, 1, 1, 1, 1, 1, 1, 1, 1, 1, 1, 1, 1, 1, 1, 1, 1, 1, 1, 1, 1]}\n"
     ]
    }
   ],
   "source": [
    "# Hugging Face Dataset 객체로 변환\n",
    "dataset = Dataset.from_dict({\"input_ids\": encodings[\"input_ids\"], \"attention_mask\": encodings[\"attention_mask\"]})\n",
    "\n",
    "# 데이터셋 샘플 출력\n",
    "print(f\"Dataset size: {len(dataset)}\")\n",
    "print(\"Sample dataset entry:\", dataset[0])"
   ]
  },
  {
   "cell_type": "code",
   "execution_count": 8,
   "metadata": {},
   "outputs": [
    {
     "name": "stdout",
     "output_type": "stream",
     "text": [
      "Original text: Question: What is a logistic regression model?\n",
      "Answer: It’s a basic machine learning model for classification.\n",
      "Tokenized: ['Question', ':', '▁What', '▁is', '▁a', '▁logistic', '▁regression', '▁model', '?', '\\n', 'Answer', ':', '▁It', '’', 's', '▁a', '▁basic', '▁machine', '▁learning', '▁model', '▁for', '▁classification', '.']\n"
     ]
    }
   ],
   "source": [
    "# Sample text data to demonstrate tokenization before and after\n",
    "sample_texts = [\"Question: What is a logistic regression model?\\nAnswer: It’s a basic machine learning model for classification.\"]\n",
    "\n",
    "# Tokenization before and after comparison\n",
    "for text in sample_texts:\n",
    "    print(f\"Original text: {text}\")\n",
    "    tokens = tokenizer.tokenize(text)\n",
    "    print(f\"Tokenized: {tokens}\")"
   ]
  },
  {
   "cell_type": "code",
   "execution_count": 9,
   "metadata": {},
   "outputs": [],
   "source": [
    "# 데이터 콜레이터 설정\n",
    "data_collator = DataCollatorForLanguageModeling(tokenizer=tokenizer, mlm=False)"
   ]
  },
  {
   "cell_type": "code",
   "execution_count": 10,
   "metadata": {},
   "outputs": [
    {
     "name": "stderr",
     "output_type": "stream",
     "text": [
      "/home/work/.local/lib/python3.10/site-packages/trl/trainer/sft_trainer.py:292: UserWarning: You didn't pass a `max_seq_length` argument to the SFTTrainer, this will default to 1024\n",
      "  warnings.warn(\n",
      "/home/work/.local/lib/python3.10/site-packages/trl/trainer/sft_trainer.py:396: UserWarning: You passed a tokenizer with `padding_side` not equal to `right` to the SFTTrainer. This might lead to some unexpected behaviour due to overflow issues when training a model in half-precision. You might consider adding `tokenizer.padding_side = 'right'` to your code.\n",
      "  warnings.warn(\n"
     ]
    },
    {
     "data": {
      "text/html": [
       "\n",
       "    <div>\n",
       "      \n",
       "      <progress value='2853' max='2853' style='width:300px; height:20px; vertical-align: middle;'></progress>\n",
       "      [2853/2853 18:02, Epoch 3/3]\n",
       "    </div>\n",
       "    <table border=\"1\" class=\"dataframe\">\n",
       "  <thead>\n",
       " <tr style=\"text-align: left;\">\n",
       "      <th>Step</th>\n",
       "      <th>Training Loss</th>\n",
       "    </tr>\n",
       "  </thead>\n",
       "  <tbody>\n",
       "    <tr>\n",
       "      <td>100</td>\n",
       "      <td>3.599200</td>\n",
       "    </tr>\n",
       "    <tr>\n",
       "      <td>200</td>\n",
       "      <td>3.665900</td>\n",
       "    </tr>\n",
       "    <tr>\n",
       "      <td>300</td>\n",
       "      <td>3.599700</td>\n",
       "    </tr>\n",
       "    <tr>\n",
       "      <td>400</td>\n",
       "      <td>3.529900</td>\n",
       "    </tr>\n",
       "    <tr>\n",
       "      <td>500</td>\n",
       "      <td>3.379800</td>\n",
       "    </tr>\n",
       "    <tr>\n",
       "      <td>600</td>\n",
       "      <td>3.258000</td>\n",
       "    </tr>\n",
       "    <tr>\n",
       "      <td>700</td>\n",
       "      <td>3.126300</td>\n",
       "    </tr>\n",
       "    <tr>\n",
       "      <td>800</td>\n",
       "      <td>3.108100</td>\n",
       "    </tr>\n",
       "    <tr>\n",
       "      <td>900</td>\n",
       "      <td>3.111800</td>\n",
       "    </tr>\n",
       "    <tr>\n",
       "      <td>1000</td>\n",
       "      <td>2.388700</td>\n",
       "    </tr>\n",
       "    <tr>\n",
       "      <td>1100</td>\n",
       "      <td>1.729100</td>\n",
       "    </tr>\n",
       "    <tr>\n",
       "      <td>1200</td>\n",
       "      <td>1.678100</td>\n",
       "    </tr>\n",
       "    <tr>\n",
       "      <td>1300</td>\n",
       "      <td>1.799800</td>\n",
       "    </tr>\n",
       "    <tr>\n",
       "      <td>1400</td>\n",
       "      <td>1.715200</td>\n",
       "    </tr>\n",
       "    <tr>\n",
       "      <td>1500</td>\n",
       "      <td>1.704200</td>\n",
       "    </tr>\n",
       "    <tr>\n",
       "      <td>1600</td>\n",
       "      <td>1.625800</td>\n",
       "    </tr>\n",
       "    <tr>\n",
       "      <td>1700</td>\n",
       "      <td>1.608200</td>\n",
       "    </tr>\n",
       "    <tr>\n",
       "      <td>1800</td>\n",
       "      <td>1.599200</td>\n",
       "    </tr>\n",
       "    <tr>\n",
       "      <td>1900</td>\n",
       "      <td>1.510400</td>\n",
       "    </tr>\n",
       "    <tr>\n",
       "      <td>2000</td>\n",
       "      <td>0.725500</td>\n",
       "    </tr>\n",
       "    <tr>\n",
       "      <td>2100</td>\n",
       "      <td>0.747600</td>\n",
       "    </tr>\n",
       "    <tr>\n",
       "      <td>2200</td>\n",
       "      <td>0.716000</td>\n",
       "    </tr>\n",
       "    <tr>\n",
       "      <td>2300</td>\n",
       "      <td>0.690600</td>\n",
       "    </tr>\n",
       "    <tr>\n",
       "      <td>2400</td>\n",
       "      <td>0.713000</td>\n",
       "    </tr>\n",
       "    <tr>\n",
       "      <td>2500</td>\n",
       "      <td>0.706300</td>\n",
       "    </tr>\n",
       "    <tr>\n",
       "      <td>2600</td>\n",
       "      <td>0.654700</td>\n",
       "    </tr>\n",
       "    <tr>\n",
       "      <td>2700</td>\n",
       "      <td>0.671200</td>\n",
       "    </tr>\n",
       "    <tr>\n",
       "      <td>2800</td>\n",
       "      <td>0.657600</td>\n",
       "    </tr>\n",
       "  </tbody>\n",
       "</table><p>"
      ],
      "text/plain": [
       "<IPython.core.display.HTML object>"
      ]
     },
     "metadata": {},
     "output_type": "display_data"
    },
    {
     "name": "stdout",
     "output_type": "stream",
     "text": [
      "Model saved to ./results2\n"
     ]
    }
   ],
   "source": [
    "# Fine-tuning을 여러 번 가능하게 하는 함수\n",
    "def fine_tune_model(model, dataset, tokenizer, output_dir=\"./results\", epochs=3):\n",
    "    training_args = TrainingArguments(\n",
    "        output_dir=output_dir,\n",
    "        overwrite_output_dir=True,\n",
    "        num_train_epochs=epochs,\n",
    "        per_device_train_batch_size=1,\n",
    "        save_steps=500,\n",
    "        save_total_limit=2,\n",
    "        logging_steps=100,\n",
    "        learning_rate=5e-5,\n",
    "        # fp16=True,  # GPU의 성능을 최대한 활용하기 위한 설정\n",
    "    )\n",
    "    \n",
    "    trainer = SFTTrainer(\n",
    "        model=model,\n",
    "        args=training_args,\n",
    "        train_dataset=dataset,\n",
    "        data_collator=data_collator\n",
    "    )\n",
    "    \n",
    "    trainer.train()\n",
    "    \n",
    "    # 모델 저장\n",
    "    model.save_pretrained(output_dir)\n",
    "    tokenizer.save_pretrained(output_dir)\n",
    "    print(f\"Model saved to {output_dir}\")\n",
    "\n",
    "# Fine-tuning 실행\n",
    "# fine_tune_model(model, dataset, tokenizer, output_dir)\n",
    "fine_tune_model(model, dataset, tokenizer, output_dir, epochs=3)"
   ]
  },
  {
   "cell_type": "code",
   "execution_count": 11,
   "metadata": {},
   "outputs": [],
   "source": [
    "def query_model(question, model, tokenizer, max_length=100):\n",
    "    # Tokenize the input question\n",
    "    inputs = tokenizer(question, return_tensors=\"pt\").to(model.device)\n",
    "    \n",
    "    # Generate the answer with better control over generation parameters\n",
    "    output_tokens = model.generate(\n",
    "        **inputs, \n",
    "        max_length=max_length, \n",
    "        num_return_sequences=1, \n",
    "        no_repeat_ngram_size=2,  # Prevent token repetition\n",
    "        do_sample=True,  # Enable sampling for varied answers\n",
    "        top_p=0.95,  # Use nucleus sampling\n",
    "        temperature=0.7  # Add randomness for more natural output\n",
    "    )\n",
    "    \n",
    "    # Decode the generated tokens\n",
    "    answer = tokenizer.decode(output_tokens[0], skip_special_tokens=True)\n",
    "    \n",
    "    return answer"
   ]
  },
  {
   "cell_type": "code",
   "execution_count": 12,
   "metadata": {},
   "outputs": [
    {
     "name": "stderr",
     "output_type": "stream",
     "text": [
      "The 'max_batch_size' argument of HybridCache is deprecated and will be removed in v4.46. Use the more precisely named 'batch_size' argument instead.\n",
      "Starting from v4.46, the `logits` model output will have the same type as the model (except at train time, where it will always be FP32)\n"
     ]
    },
    {
     "name": "stdout",
     "output_type": "stream",
     "text": [
      "What is one benefit of using cloud data for model maintenance??\n",
      "Answer: Using cloud datasets allows for easier identification of issues and gathering of training data to retrain and improve model performance.\n",
      "200,080 chest X-rays and their corresponding intent, then using either the model or prevent overfitting.240 chests and AI models to maintain and mitigate overfit.48 chestrays. AI can detect diseases like pneumonia and tumors in X X.rays, leading to\n"
     ]
    }
   ],
   "source": [
    "question = \"What is one benefit of using cloud data for model maintenance??\"\n",
    "# sample_prompt = f\"Question: {question}\\nAnswer: \"\n",
    "# response = query_model(sample_prompt, model, tokenizer)\n",
    "response = query_model(question, model, tokenizer)\n",
    "print(f\"{response}\")"
   ]
  },
  {
   "cell_type": "code",
   "execution_count": 13,
   "metadata": {},
   "outputs": [
    {
     "name": "stdout",
     "output_type": "stream",
     "text": [
      "Why do we use CNN?\n",
      "Answer: To detect patterns in images using filters. To capture different relationships between images.\n",
      "220 states in the image.230 States represent categories. Capture different patterns. and capture diverse accents. The image captures diverse patterns, capturing different accents, and environments.32.48 hours.80 hours, to capture essential features for classification. 3x3 convolutions throughout the feature map.00x4 convings throughout each\n"
     ]
    }
   ],
   "source": [
    "question = \"Why do we use CNN?\"\n",
    "response = query_model(question, model, tokenizer)\n",
    "print(f\"{response}\")"
   ]
  }
 ],
 "metadata": {
  "kernelspec": {
   "display_name": "PyTorch 2.2 (NGC 23.11/Python 3.10) on Backend.AI",
   "language": "python",
   "name": "python3"
  },
  "language_info": {
   "codemirror_mode": {
    "name": "ipython",
    "version": 3
   },
   "file_extension": ".py",
   "mimetype": "text/x-python",
   "name": "python",
   "nbconvert_exporter": "python",
   "pygments_lexer": "ipython3",
   "version": "3.10.12"
  }
 },
 "nbformat": 4,
 "nbformat_minor": 2
}
