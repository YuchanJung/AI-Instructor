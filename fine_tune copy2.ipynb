{
 "cells": [
  {
   "cell_type": "code",
   "execution_count": 1,
   "metadata": {},
   "outputs": [],
   "source": [
    "import torch\n",
    "import os\n",
    "from transformers import AutoTokenizer, AutoModelForCausalLM, BitsAndBytesConfig\n",
    "from datasets import Dataset\n",
    "from transformers import DataCollatorForLanguageModeling, TrainingArguments\n",
    "from trl import SFTTrainer\n",
    "import pandas as pd"
   ]
  },
  {
   "cell_type": "code",
   "execution_count": 2,
   "metadata": {},
   "outputs": [],
   "source": [
    "from dotenv import load_dotenv\n",
    "\n",
    "load_dotenv()\n",
    "\n",
    "model_id = \"google/gemma-2-2b\"\n",
    "data_dir = \"./dataset/csv\"\n",
    "output_dir = './results2'\n",
    "token = os.environ.get('HUGGINGFACE_TOKEN')"
   ]
  },
  {
   "cell_type": "code",
   "execution_count": 3,
   "metadata": {},
   "outputs": [],
   "source": [
    "# 모델 및 토크나이저 로드\n",
    "# bnb_config = BitsAndBytesConfig(\n",
    "#     load_in_4bit=True,\n",
    "#     bnb_4bit_quant_type=\"nf4\",\n",
    "#     bnb_4bit_compute_dtype=torch.bfloat16\n",
    "# )"
   ]
  },
  {
   "cell_type": "code",
   "execution_count": null,
   "metadata": {},
   "outputs": [],
   "source": [
    "tokenizer = AutoTokenizer.from_pretrained(model_id, token=token)\n",
    "model = AutoModelForCausalLM.from_pretrained(\n",
    "    model_id,\n",
    "    device_map={\"\":0},\n",
    "    token=token\n",
    ")"
   ]
  },
  {
   "cell_type": "code",
   "execution_count": null,
   "metadata": {},
   "outputs": [],
   "source": [
    "# 데이터셋 로드 및 전처리\n",
    "def load_qna_files(data_dir):\n",
    "    files = [os.path.join(data_dir, f) for f in os.listdir(data_dir) if f.endswith('.csv')]\n",
    "    data = []\n",
    "    for file in files:\n",
    "        dataset = pd.read_csv(file)\n",
    "        print(f'Sample data of {file}')\n",
    "        print(dataset.head(5))\n",
    "        for index, row in dataset.iterrows():\n",
    "            data.append(f\"Question: {row['Question']}\\nAnswer: {row['Answer']}\")\n",
    "    return data\n",
    "\n",
    "data = load_qna_files(data_dir)\n",
    "print(f'Sample of refined data')\n",
    "print(data[:30])"
   ]
  },
  {
   "cell_type": "code",
   "execution_count": 6,
   "metadata": {},
   "outputs": [],
   "source": [
    "def preprocess_data(texts, tokenizer, max_length=512):\n",
    "    encodings = tokenizer(texts, truncation=True, padding='max_length', max_length=max_length, return_tensors=\"pt\")\n",
    "    return encodings\n",
    "\n",
    "# 전처리된 데이터셋\n",
    "encodings = preprocess_data(data, tokenizer)"
   ]
  },
  {
   "cell_type": "code",
   "execution_count": null,
   "metadata": {},
   "outputs": [],
   "source": [
    "# Hugging Face Dataset 객체로 변환\n",
    "dataset = Dataset.from_dict({\"input_ids\": encodings[\"input_ids\"], \"attention_mask\": encodings[\"attention_mask\"]})\n",
    "\n",
    "# 데이터셋 샘플 출력\n",
    "print(f\"Dataset size: {len(dataset)}\")\n",
    "print(\"Sample dataset entry:\", dataset[0])"
   ]
  },
  {
   "cell_type": "code",
   "execution_count": null,
   "metadata": {},
   "outputs": [],
   "source": [
    "# Sample text data to demonstrate tokenization before and after\n",
    "sample_texts = [\"Question: What is a logistic regression model?\\nAnswer: It’s a basic machine learning model for classification.\"]\n",
    "\n",
    "# Tokenization before and after comparison\n",
    "for text in sample_texts:\n",
    "    print(f\"Original text: {text}\")\n",
    "    tokens = tokenizer.tokenize(text)\n",
    "    print(f\"Tokenized: {tokens}\")"
   ]
  },
  {
   "cell_type": "code",
   "execution_count": 9,
   "metadata": {},
   "outputs": [],
   "source": [
    "# 데이터 콜레이터 설정\n",
    "data_collator = DataCollatorForLanguageModeling(tokenizer=tokenizer, mlm=False)"
   ]
  },
  {
   "cell_type": "code",
   "execution_count": null,
   "metadata": {},
   "outputs": [],
   "source": [
    "# Fine-tuning을 여러 번 가능하게 하는 함수\n",
    "def fine_tune_model(model, dataset, tokenizer, output_dir=\"./results\", epochs=3):\n",
    "    training_args = TrainingArguments(\n",
    "        output_dir=output_dir,\n",
    "        overwrite_output_dir=True,\n",
    "        num_train_epochs=epochs,\n",
    "        per_device_train_batch_size=1,\n",
    "        save_steps=500,\n",
    "        save_total_limit=2,\n",
    "        logging_steps=100,\n",
    "        learning_rate=5e-5,\n",
    "        # fp16=True,  # GPU의 성능을 최대한 활용하기 위한 설정\n",
    "    )\n",
    "    \n",
    "    trainer = SFTTrainer(\n",
    "        model=model,\n",
    "        args=training_args,\n",
    "        train_dataset=dataset,\n",
    "        data_collator=data_collator\n",
    "    )\n",
    "    \n",
    "    trainer.train()\n",
    "    \n",
    "    # 모델 저장\n",
    "    model.save_pretrained(output_dir)\n",
    "    tokenizer.save_pretrained(output_dir)\n",
    "    print(f\"Model saved to {output_dir}\")\n",
    "\n",
    "# Fine-tuning 실행\n",
    "# fine_tune_model(model, dataset, tokenizer, output_dir)\n",
    "fine_tune_model(model, dataset, tokenizer, output_dir, epochs=3)"
   ]
  },
  {
   "cell_type": "code",
   "execution_count": 11,
   "metadata": {},
   "outputs": [],
   "source": [
    "def query_model(question, model, tokenizer, max_length=100):\n",
    "    # Tokenize the input question\n",
    "    inputs = tokenizer(question, return_tensors=\"pt\").to(model.device)\n",
    "    \n",
    "    # Generate the answer with better control over generation parameters\n",
    "    output_tokens = model.generate(\n",
    "        **inputs, \n",
    "        max_length=max_length, \n",
    "        num_return_sequences=1, \n",
    "        no_repeat_ngram_size=2,  # Prevent token repetition\n",
    "        do_sample=True,  # Enable sampling for varied answers\n",
    "        top_p=0.95,  # Use nucleus sampling\n",
    "        temperature=0.7  # Add randomness for more natural output\n",
    "    )\n",
    "    \n",
    "    # Decode the generated tokens\n",
    "    answer = tokenizer.decode(output_tokens[0], skip_special_tokens=True)\n",
    "    \n",
    "    return answer"
   ]
  },
  {
   "cell_type": "code",
   "execution_count": null,
   "metadata": {},
   "outputs": [],
   "source": [
    "question = \"What is one benefit of using cloud data for model maintenance??\"\n",
    "# sample_prompt = f\"Question: {question}\\nAnswer: \"\n",
    "# response = query_model(sample_prompt, model, tokenizer)\n",
    "response = query_model(question, model, tokenizer)\n",
    "print(f\"{response}\")"
   ]
  },
  {
   "cell_type": "code",
   "execution_count": null,
   "metadata": {},
   "outputs": [],
   "source": [
    "question = \"Why do we use CNN?\"\n",
    "response = query_model(question, model, tokenizer)\n",
    "print(f\"{response}\")"
   ]
  }
 ],
 "metadata": {
  "kernelspec": {
   "display_name": "Python 3.11.9 64-bit",
   "language": "python",
   "name": "python3"
  },
  "language_info": {
   "codemirror_mode": {
    "name": "ipython",
    "version": 3
   },
   "file_extension": ".py",
   "mimetype": "text/x-python",
   "name": "python",
   "nbconvert_exporter": "python",
   "pygments_lexer": "ipython3",
   "version": "3.11.9"
  },
  "vscode": {
   "interpreter": {
    "hash": "5c7b89af1651d0b8571dde13640ecdccf7d5a6204171d6ab33e7c296e100e08a"
   }
  }
 },
 "nbformat": 4,
 "nbformat_minor": 2
}
